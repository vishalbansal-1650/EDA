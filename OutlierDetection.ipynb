{
 "cells": [
  {
   "cell_type": "markdown",
   "metadata": {},
   "source": [
    "# Outlier/Anomaly/Novelty Detection"
   ]
  },
  {
   "cell_type": "code",
   "execution_count": 21,
   "metadata": {},
   "outputs": [
    {
     "name": "stdout",
     "output_type": "stream",
     "text": [
      "lower_limit: -49.95602832012464\n",
      "upper_limit: 100.14545280681892\n"
     ]
    },
    {
     "data": {
      "text/plain": [
       "[100.77142780930076,\n",
       " 123.96506760094908,\n",
       " 108.0269689042591,\n",
       " -51.34410951065762,\n",
       " -53.83393625477622,\n",
       " -50.400799630232456,\n",
       " 110.81658579488898,\n",
       " -51.60353390262752,\n",
       " 118.50622259261473,\n",
       " 103.37618350219768,\n",
       " 105.95857991880942,\n",
       " -56.32585587441548,\n",
       " 103.30074320351264,\n",
       " 100.31886420593081,\n",
       " -54.765408670602014,\n",
       " -56.51537739441348,\n",
       " 110.1075568937243,\n",
       " 102.96198976956376,\n",
       " 107.46351308201963,\n",
       " 103.72460063049074,\n",
       " -57.37146016746286,\n",
       " -51.39083101035766,\n",
       " 125.67122611368444,\n",
       " -55.47830264059604,\n",
       " 102.7972957754181,\n",
       " 115.3319251770787,\n",
       " 109.95289141256066,\n",
       " 114.02183301763871,\n",
       " -66.41100248136988,\n",
       " -57.05196990776544,\n",
       " 114.01531619181044,\n",
       " -54.3365409335436,\n",
       " 102.66873321431977,\n",
       " 103.63422409243634,\n",
       " -57.77106405511498,\n",
       " -52.44566379811087,\n",
       " -57.00818992635725,\n",
       " 100.65546235760888,\n",
       " -54.13025311692219,\n",
       " -52.81579155466066,\n",
       " 101.99019432689131,\n",
       " 129.20294194887737,\n",
       " 120.85952552276757,\n",
       " -50.733599448078465,\n",
       " -60.898145250110375,\n",
       " -56.480151715991155,\n",
       " 101.92697635551914,\n",
       " 105.69840300884863,\n",
       " -50.961064648969256,\n",
       " -55.101611258653165,\n",
       " -52.55412234235163,\n",
       " 109.64287889827871,\n",
       " 111.17390039474212,\n",
       " -50.651416433668246,\n",
       " -61.28507265637934,\n",
       " 108.40063128314122,\n",
       " -55.56534796828146,\n",
       " -73.18785165154472,\n",
       " 109.79856432560628,\n",
       " -52.26258222121099,\n",
       " -52.977964440313514,\n",
       " 113.99921395275098,\n",
       " 116.49414604391278,\n",
       " -51.271603683058615,\n",
       " 103.68388198864028,\n",
       " 108.55128222835326,\n",
       " -59.198682147838554,\n",
       " -59.093397104277784,\n",
       " -55.066049496256525,\n",
       " 101.74030145863358,\n",
       " -80.82911993580477,\n",
       " -52.39905669389982,\n",
       " 108.72866752652443,\n",
       " -53.47905672704026,\n",
       " -54.30088180641198,\n",
       " 103.92818586539545,\n",
       " 100.37152557515141,\n",
       " 101.22080602077729,\n",
       " -61.41913362446874,\n",
       " 113.69199771485262,\n",
       " 107.18811426274449,\n",
       " 113.29192158479634,\n",
       " -65.32030713276399,\n",
       " -60.53409247556097,\n",
       " 115.56435983098862,\n",
       " -50.75170666787993,\n",
       " 113.32747422750646,\n",
       " -50.81500041509959,\n",
       " 106.8409031631955,\n",
       " -50.74847788786461,\n",
       " -67.44729646660468,\n",
       " -51.000456067853605,\n",
       " 103.09254904016714,\n",
       " 103.36950767133797,\n",
       " -57.72685158295553,\n",
       " 108.73856095181262,\n",
       " 100.18216213254338,\n",
       " 102.80902360789025,\n",
       " -57.2903449445151,\n",
       " 105.22033367706126,\n",
       " 105.52422620938925,\n",
       " -60.1510020728049,\n",
       " -59.57520382360734,\n",
       " 103.79124633363796,\n",
       " -57.93216119635008,\n",
       " -54.92659751852128,\n",
       " -56.11111685620422,\n",
       " 103.41863690411743,\n",
       " 104.46669430503944,\n",
       " 100.96592663765851,\n",
       " -65.6301650908474,\n",
       " -62.12181834041452,\n",
       " 100.27564923427774,\n",
       " -77.21221460105028,\n",
       " -51.96834017400781,\n",
       " -73.57855800233827,\n",
       " -63.99672982145776,\n",
       " -70.14910494548265,\n",
       " -61.06302863398747,\n",
       " -65.80199489874704,\n",
       " -51.07251990629685,\n",
       " 112.50640642701715,\n",
       " -55.188504700764824,\n",
       " 101.34468855206549,\n",
       " 110.52603263439029,\n",
       " -61.218943336525925,\n",
       " -52.342632521789724,\n",
       " 102.3909059757384,\n",
       " 105.86629706511623,\n",
       " -51.17480802241995,\n",
       " -65.76951879610499,\n",
       " -61.7479306629797,\n",
       " 105.60398977883114,\n",
       " 100.51741726520271,\n",
       " 111.30399214017764,\n",
       " 103.8943168590099,\n",
       " 107.99356575427073,\n",
       " -67.92825541317268,\n",
       " -67.35511194194162,\n",
       " -76.04201097840185,\n",
       " -56.878689341816795,\n",
       " -53.55146362178341]"
      ]
     },
     "execution_count": 21,
     "metadata": {},
     "output_type": "execute_result"
    }
   ],
   "source": [
    "######## Method-1 Using Standard deviation to detect outlier\n",
    "\n",
    "'''if in a normal distribution of variable, \n",
    "   value > mean + 3* std  or value < mean -  3 * std, then that value should be treated as outlier\n",
    "'''\n",
    "\n",
    "import numpy as np\n",
    "\n",
    "np.random.seed(1)\n",
    "\n",
    "outlier_list = []\n",
    "\n",
    "# using random numbers to generate real values\n",
    "data = np.random.randn(50000)  * 25 + 25\n",
    "\n",
    "# Function for Detection Outlier on 1-D dataset.\n",
    "\n",
    "def outlier_detect(dataset):\n",
    "    # Set upper and lower limit to 3 standard deviation\n",
    "    dataset_std = np.std(dataset)\n",
    "    dataset_mean = np.mean(dataset)\n",
    "    \n",
    "    lower_limit  = dataset_mean - dataset_std * 3 \n",
    "    print(\"lower_limit:\",lower_limit)\n",
    "    upper_limit = dataset_mean + dataset_std * 3\n",
    "    print(\"upper_limit:\",upper_limit)\n",
    "  \n",
    "    # Get outliers\n",
    "    for outlier in dataset:\n",
    "        if outlier > upper_limit or outlier < lower_limit:\n",
    "            outlier_list.append(outlier)\n",
    "    return outlier_list\n",
    "\n",
    "outlier_detect(data)"
   ]
  },
  {
   "cell_type": "code",
   "execution_count": 22,
   "metadata": {},
   "outputs": [
    {
     "data": {
      "text/plain": [
       "<matplotlib.axes._subplots.AxesSubplot at 0x173f9393908>"
      ]
     },
     "execution_count": 22,
     "metadata": {},
     "output_type": "execute_result"
    },
    {
     "data": {
      "image/png": "[encoded data removed]",
      "text/plain": [
       "<Figure size 432x288 with 1 Axes>"
      ]
     },
     "metadata": {
      "needs_background": "light"
     },
     "output_type": "display_data"
    }
   ],
   "source": [
    "########### Method-2 Using Box plot\n",
    "\n",
    "import seaborn as sns\n",
    "import matplotlib.pyplot as plt\n",
    "%matplotlib inline\n",
    "\n",
    "sns.boxplot(data=data)"
   ]
  },
  {
   "cell_type": "code",
   "execution_count": null,
   "metadata": {},
   "outputs": [],
   "source": []
  }
 ],
 "metadata": {
  "kernelspec": {
   "display_name": "Python [conda env:py37]",
   "language": "python",
   "name": "conda-env-py37-py"
  },
  "language_info": {
   "codemirror_mode": {
    "name": "ipython",
    "version": 3
   },
   "file_extension": ".py",
   "mimetype": "text/x-python",
   "name": "python",
   "nbconvert_exporter": "python",
   "pygments_lexer": "ipython3",
   "version": "3.7.4"
  }
 },
 "nbformat": 4,
 "nbformat_minor": 2
}
